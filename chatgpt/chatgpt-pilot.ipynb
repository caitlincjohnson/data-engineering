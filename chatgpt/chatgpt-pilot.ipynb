{
 "cells": [
  {
   "attachments": {},
   "cell_type": "markdown",
   "metadata": {},
   "source": [
    "Testing with ChatGPT"
   ]
  },
  {
   "attachments": {},
   "cell_type": "markdown",
   "metadata": {},
   "source": [
    "This Jupyter Notebook script contains an experimental usage of ChatGPT."
   ]
  },
  {
   "cell_type": "code",
   "execution_count": 2,
   "metadata": {},
   "outputs": [
    {
     "name": "stdout",
     "output_type": "stream",
     "text": [
      "Requirement already satisfied: python-dotenv in /Users/caitlin.johnson/opt/anaconda3/lib/python3.9/site-packages (1.0.0)\n",
      "Requirement already satisfied: openai in /Users/caitlin.johnson/opt/anaconda3/lib/python3.9/site-packages (0.27.7)\n",
      "Requirement already satisfied: requests>=2.20 in /Users/caitlin.johnson/opt/anaconda3/lib/python3.9/site-packages (from openai) (2.27.1)\n",
      "Requirement already satisfied: aiohttp in /Users/caitlin.johnson/opt/anaconda3/lib/python3.9/site-packages (from openai) (3.8.1)\n",
      "Requirement already satisfied: tqdm in /Users/caitlin.johnson/opt/anaconda3/lib/python3.9/site-packages (from openai) (4.64.0)\n",
      "Requirement already satisfied: charset-normalizer~=2.0.0 in /Users/caitlin.johnson/opt/anaconda3/lib/python3.9/site-packages (from requests>=2.20->openai) (2.0.4)\n",
      "Requirement already satisfied: certifi>=2017.4.17 in /Users/caitlin.johnson/opt/anaconda3/lib/python3.9/site-packages (from requests>=2.20->openai) (2021.10.8)\n",
      "Requirement already satisfied: urllib3<1.27,>=1.21.1 in /Users/caitlin.johnson/opt/anaconda3/lib/python3.9/site-packages (from requests>=2.20->openai) (1.26.9)\n",
      "Requirement already satisfied: idna<4,>=2.5 in /Users/caitlin.johnson/opt/anaconda3/lib/python3.9/site-packages (from requests>=2.20->openai) (3.3)\n",
      "Requirement already satisfied: multidict<7.0,>=4.5 in /Users/caitlin.johnson/opt/anaconda3/lib/python3.9/site-packages (from aiohttp->openai) (5.2.0)\n",
      "Requirement already satisfied: attrs>=17.3.0 in /Users/caitlin.johnson/opt/anaconda3/lib/python3.9/site-packages (from aiohttp->openai) (21.4.0)\n",
      "Requirement already satisfied: frozenlist>=1.1.1 in /Users/caitlin.johnson/opt/anaconda3/lib/python3.9/site-packages (from aiohttp->openai) (1.2.0)\n",
      "Requirement already satisfied: yarl<2.0,>=1.0 in /Users/caitlin.johnson/opt/anaconda3/lib/python3.9/site-packages (from aiohttp->openai) (1.6.3)\n",
      "Requirement already satisfied: aiosignal>=1.1.2 in /Users/caitlin.johnson/opt/anaconda3/lib/python3.9/site-packages (from aiohttp->openai) (1.2.0)\n",
      "Requirement already satisfied: async-timeout<5.0,>=4.0.0a3 in /Users/caitlin.johnson/opt/anaconda3/lib/python3.9/site-packages (from aiohttp->openai) (4.0.1)\n",
      "Requirement already satisfied: typing-extensions>=3.6.5 in /Users/caitlin.johnson/opt/anaconda3/lib/python3.9/site-packages (from async-timeout<5.0,>=4.0.0a3->aiohttp->openai) (4.1.1)\n",
      "Requirement already satisfied: psycopg2 in /Users/caitlin.johnson/opt/anaconda3/lib/python3.9/site-packages (2.9.6)\n"
     ]
    }
   ],
   "source": [
    "!pip install python-dotenv\n",
    "!pip install openai\n",
    "!pip install psycopg2 "
   ]
  },
  {
   "cell_type": "code",
   "execution_count": 3,
   "metadata": {},
   "outputs": [],
   "source": [
    "import openai\n",
    "import os\n",
    "\n",
    "from dotenv import load_dotenv, find_dotenv\n",
    "_ = load_dotenv(find_dotenv())\n",
    "\n",
    "openai.api_key  = os.getenv('OPENAI_API_KEY')"
   ]
  },
  {
   "cell_type": "code",
   "execution_count": 4,
   "metadata": {},
   "outputs": [],
   "source": [
    "def get_completion(prompt, model=\"gpt-3.5-turbo\"):\n",
    "    messages = [{\"role\": \"user\", \"content\": prompt}]\n",
    "    response = openai.ChatCompletion.create(\n",
    "        model=model,\n",
    "        messages=messages,\n",
    "        temperature=0, # this is the degree of randomness of the model's output\n",
    "    )\n",
    "    return response.choices[0].message[\"content\"]"
   ]
  },
  {
   "attachments": {},
   "cell_type": "markdown",
   "metadata": {},
   "source": [
    "Prompting Principles:\n",
    "- Principle 1: Write clear and specific instructions\n",
    "- Principle 2: Give the model time to \"think\""
   ]
  },
  {
   "cell_type": "code",
   "execution_count": 5,
   "metadata": {},
   "outputs": [],
   "source": [
    "data_dictionary = {\n",
    "    \"users\": {\n",
    "        \"id\": \"unique identifier of each user\",\n",
    "        \"first_name\": \"first name of each user\",\n",
    "        \"last_name\": \"last name of each user\"\n",
    "    },\n",
    "    \"sales\": {\n",
    "        \"id\": \"unique identifier for each sale\",\n",
    "        \"user_id\": \"references the 'id' column in the 'users' table, linking each sale to a specific user\",\n",
    "        \"total_amount\": \"the total amount associated with each sale\",\n",
    "        \"payment_date\": \"the date when the payment was made\",\n",
    "        \"sale_date\": \"the date when the sale was made\"\n",
    "    }\n",
    "}"
   ]
  },
  {
   "cell_type": "code",
   "execution_count": 6,
   "metadata": {},
   "outputs": [],
   "source": [
    "user_prompt = \"Give me the top three users with highest amount for sales in April 2023\"\n",
    "\n",
    "application_prompt = f\"\"\"\n",
    "Write a query in PostgreSQL that {user_prompt}. \\\n",
    "Reference the data dictionary which is in a JSON format to determine which columns and tables to use within the query: \\\n",
    "{data_dictionary}\n",
    "\"\"\""
   ]
  },
  {
   "cell_type": "code",
   "execution_count": 7,
   "metadata": {},
   "outputs": [
    {
     "name": "stdout",
     "output_type": "stream",
     "text": [
      "SELECT u.first_name, u.last_name, SUM(s.total_amount) AS total_sales\n",
      "FROM users u\n",
      "JOIN sales s ON u.id = s.user_id\n",
      "WHERE s.sale_date BETWEEN '2023-04-01' AND '2023-04-30'\n",
      "GROUP BY u.id\n",
      "ORDER BY total_sales DESC\n",
      "LIMIT 3;\n"
     ]
    }
   ],
   "source": [
    "response = get_completion(application_prompt)\n",
    "print(response)"
   ]
  },
  {
   "cell_type": "code",
   "execution_count": 8,
   "metadata": {},
   "outputs": [
    {
     "name": "stdout",
     "output_type": "stream",
     "text": [
      "Connected to the PostgreSQL database successfully!\n",
      "Query results:\n",
      "('Lauren', 'Morales', Decimal('89'))\n",
      "('Manuel', 'Martin', Decimal('44'))\n",
      "('Emily', 'Crawford', Decimal('39'))\n"
     ]
    }
   ],
   "source": [
    "import psycopg2\n",
    "\n",
    "try:\n",
    "    # Connect to the PostgreSQL database\n",
    "    conn = psycopg2.connect(\n",
    "        host=os.getenv('PG_HOST'),\n",
    "        database=os.getenv('PG_DATABASE'),\n",
    "        user=os.getenv('PG_USER'),\n",
    "        password=os.getenv('PG_PASSWORD'),\n",
    "        port=os.getenv('PG_PORT')\n",
    "    )\n",
    "    print(\"Connected to the PostgreSQL database successfully!\")\n",
    "\n",
    "    # Create a cursor object\n",
    "    cursor = conn.cursor()\n",
    "    cursor.execute(\"SET search_path TO coffee_chain\")\n",
    "\n",
    "    # Execute a sample query\n",
    "    cursor.execute(query=response)\n",
    "\n",
    "    # Fetch all rows\n",
    "    rows = cursor.fetchall()\n",
    "\n",
    "    print(\"Query results:\")\n",
    "\n",
    "    # Iterate over the rows and print the data\n",
    "    for row in rows:\n",
    "        print(row)\n",
    "    \n",
    "    cursor.close()\n",
    "    conn.close()\n",
    "\n",
    "except (Exception, psycopg2.Error) as error:\n",
    "    print(f\"Error while connecting to PostegreSQL: {error}\")"
   ]
  },
  {
   "cell_type": "code",
   "execution_count": 9,
   "metadata": {},
   "outputs": [
    {
     "name": "stdout",
     "output_type": "stream",
     "text": [
      "Here are the top three users with the highest sales amount in April 2023:\n",
      "\n",
      "1. Lauren Morales - sold a total of $89 worth of products in April 2023.\n",
      "2. Manuel Martin - sold a total of $44 worth of products in April 2023.\n",
      "3. Emily Crawford - sold a total of $39 worth of products in April 2023.\n",
      "\n",
      "These users have contributed significantly to the sales revenue in April 2023. Congratulations to them!\n"
     ]
    }
   ],
   "source": [
    "results_prompt = f\"\"\"\n",
    "The original user prompt is shown here: '{user_prompt}'.\n",
    "\n",
    "The results from the query generated to find this data can be found here: {rows}.\n",
    "\n",
    "Provide a user-friendly output explaining the results.\n",
    "\"\"\"\n",
    "response = get_completion(results_prompt)\n",
    "print(response)"
   ]
  }
 ],
 "metadata": {
  "kernelspec": {
   "display_name": "Python 3",
   "language": "python",
   "name": "python3"
  },
  "language_info": {
   "codemirror_mode": {
    "name": "ipython",
    "version": 3
   },
   "file_extension": ".py",
   "mimetype": "text/x-python",
   "name": "python",
   "nbconvert_exporter": "python",
   "pygments_lexer": "ipython3",
   "version": "3.9.12"
  },
  "orig_nbformat": 4
 },
 "nbformat": 4,
 "nbformat_minor": 2
}
